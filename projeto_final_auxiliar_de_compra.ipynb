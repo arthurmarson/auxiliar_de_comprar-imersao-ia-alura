{
  "nbformat": 4,
  "nbformat_minor": 0,
  "metadata": {
    "colab": {
      "provenance": []
    },
    "kernelspec": {
      "name": "python3",
      "display_name": "Python 3"
    },
    "language_info": {
      "name": "python"
    }
  },
  "cells": [
    {
      "cell_type": "code",
      "source": [
        "%pip -q install google-genai"
      ],
      "metadata": {
        "id": "UCCbECexLk_h"
      },
      "execution_count": 10,
      "outputs": []
    },
    {
      "cell_type": "code",
      "source": [
        "import os\n",
        "from google.colab import userdata\n",
        "\n",
        "os.environ[\"GOOGLE_API_KEY\"] = userdata.get('GOOGLE_API_KEY')"
      ],
      "metadata": {
        "id": "NfCqHo1tLk8P"
      },
      "execution_count": 2,
      "outputs": []
    },
    {
      "cell_type": "code",
      "source": [
        "from google import genai\n",
        "\n",
        "client = genai.Client()\n",
        "\n",
        "MODEL_ID = \"gemini-2.0-flash\""
      ],
      "metadata": {
        "id": "bV4w0H5TLk5g"
      },
      "execution_count": 3,
      "outputs": []
    },
    {
      "cell_type": "code",
      "source": [
        "%pip install -q google-adk"
      ],
      "metadata": {
        "id": "hvZ3UnPI4jhJ",
        "colab": {
          "base_uri": "https://localhost:8080/"
        },
        "outputId": "ebf7546b-ab73-4ae7-e0e7-dc36d922c589"
      },
      "execution_count": 4,
      "outputs": [
        {
          "output_type": "stream",
          "name": "stdout",
          "text": [
            "\u001b[?25l   \u001b[90m━━━━━━━━━━━━━━━━━━━━━━━━━━━━━━━━━━━━━━━━\u001b[0m \u001b[32m0.0/1.2 MB\u001b[0m \u001b[31m?\u001b[0m eta \u001b[36m-:--:--\u001b[0m\r\u001b[2K   \u001b[91m━━━━━━━━━━━━━━━━━━━━━━━━━━━━━━━━━━━━━━━\u001b[0m\u001b[91m╸\u001b[0m \u001b[32m1.2/1.2 MB\u001b[0m \u001b[31m59.9 MB/s\u001b[0m eta \u001b[36m0:00:01\u001b[0m\r\u001b[2K   \u001b[90m━━━━━━━━━━━━━━━━━━━━━━━━━━━━━━━━━━━━━━━━\u001b[0m \u001b[32m1.2/1.2 MB\u001b[0m \u001b[31m30.5 MB/s\u001b[0m eta \u001b[36m0:00:00\u001b[0m\n",
            "\u001b[?25h\u001b[?25l   \u001b[90m━━━━━━━━━━━━━━━━━━━━━━━━━━━━━━━━━━━━━━━━\u001b[0m \u001b[32m0.0/232.1 kB\u001b[0m \u001b[31m?\u001b[0m eta \u001b[36m-:--:--\u001b[0m\r\u001b[2K   \u001b[90m━━━━━━━━━━━━━━━━━━━━━━━━━━━━━━━━━━━━━━━━\u001b[0m \u001b[32m232.1/232.1 kB\u001b[0m \u001b[31m13.8 MB/s\u001b[0m eta \u001b[36m0:00:00\u001b[0m\n",
            "\u001b[?25h\u001b[?25l   \u001b[90m━━━━━━━━━━━━━━━━━━━━━━━━━━━━━━━━━━━━━━━━\u001b[0m \u001b[32m0.0/95.2 kB\u001b[0m \u001b[31m?\u001b[0m eta \u001b[36m-:--:--\u001b[0m\r\u001b[2K   \u001b[90m━━━━━━━━━━━━━━━━━━━━━━━━━━━━━━━━━━━━━━━━\u001b[0m \u001b[32m95.2/95.2 kB\u001b[0m \u001b[31m5.5 MB/s\u001b[0m eta \u001b[36m0:00:00\u001b[0m\n",
            "\u001b[?25h\u001b[?25l   \u001b[90m━━━━━━━━━━━━━━━━━━━━━━━━━━━━━━━━━━━━━━━━\u001b[0m \u001b[32m0.0/217.1 kB\u001b[0m \u001b[31m?\u001b[0m eta \u001b[36m-:--:--\u001b[0m\r\u001b[2K   \u001b[90m━━━━━━━━━━━━━━━━━━━━━━━━━━━━━━━━━━━━━━━━\u001b[0m \u001b[32m217.1/217.1 kB\u001b[0m \u001b[31m17.0 MB/s\u001b[0m eta \u001b[36m0:00:00\u001b[0m\n",
            "\u001b[?25h\u001b[?25l   \u001b[90m━━━━━━━━━━━━━━━━━━━━━━━━━━━━━━━━━━━━━━━━\u001b[0m \u001b[32m0.0/334.1 kB\u001b[0m \u001b[31m?\u001b[0m eta \u001b[36m-:--:--\u001b[0m\r\u001b[2K   \u001b[90m━━━━━━━━━━━━━━━━━━━━━━━━━━━━━━━━━━━━━━━━\u001b[0m \u001b[32m334.1/334.1 kB\u001b[0m \u001b[31m18.9 MB/s\u001b[0m eta \u001b[36m0:00:00\u001b[0m\n",
            "\u001b[?25h\u001b[?25l   \u001b[90m━━━━━━━━━━━━━━━━━━━━━━━━━━━━━━━━━━━━━━━━\u001b[0m \u001b[32m0.0/125.1 kB\u001b[0m \u001b[31m?\u001b[0m eta \u001b[36m-:--:--\u001b[0m\r\u001b[2K   \u001b[90m━━━━━━━━━━━━━━━━━━━━━━━━━━━━━━━━━━━━━━━━\u001b[0m \u001b[32m125.1/125.1 kB\u001b[0m \u001b[31m8.7 MB/s\u001b[0m eta \u001b[36m0:00:00\u001b[0m\n",
            "\u001b[2K   \u001b[90m━━━━━━━━━━━━━━━━━━━━━━━━━━━━━━━━━━━━━━━━\u001b[0m \u001b[32m65.8/65.8 kB\u001b[0m \u001b[31m5.3 MB/s\u001b[0m eta \u001b[36m0:00:00\u001b[0m\n",
            "\u001b[2K   \u001b[90m━━━━━━━━━━━━━━━━━━━━━━━━━━━━━━━━━━━━━━━━\u001b[0m \u001b[32m119.0/119.0 kB\u001b[0m \u001b[31m8.8 MB/s\u001b[0m eta \u001b[36m0:00:00\u001b[0m\n",
            "\u001b[2K   \u001b[90m━━━━━━━━━━━━━━━━━━━━━━━━━━━━━━━━━━━━━━━━\u001b[0m \u001b[32m194.9/194.9 kB\u001b[0m \u001b[31m13.1 MB/s\u001b[0m eta \u001b[36m0:00:00\u001b[0m\n",
            "\u001b[2K   \u001b[90m━━━━━━━━━━━━━━━━━━━━━━━━━━━━━━━━━━━━━━━━\u001b[0m \u001b[32m62.5/62.5 kB\u001b[0m \u001b[31m4.4 MB/s\u001b[0m eta \u001b[36m0:00:00\u001b[0m\n",
            "\u001b[2K   \u001b[90m━━━━━━━━━━━━━━━━━━━━━━━━━━━━━━━━━━━━━━━━\u001b[0m \u001b[32m103.3/103.3 kB\u001b[0m \u001b[31m6.9 MB/s\u001b[0m eta \u001b[36m0:00:00\u001b[0m\n",
            "\u001b[2K   \u001b[90m━━━━━━━━━━━━━━━━━━━━━━━━━━━━━━━━━━━━━━━━\u001b[0m \u001b[32m44.4/44.4 kB\u001b[0m \u001b[31m2.9 MB/s\u001b[0m eta \u001b[36m0:00:00\u001b[0m\n",
            "\u001b[2K   \u001b[90m━━━━━━━━━━━━━━━━━━━━━━━━━━━━━━━━━━━━━━━━\u001b[0m \u001b[32m72.0/72.0 kB\u001b[0m \u001b[31m5.1 MB/s\u001b[0m eta \u001b[36m0:00:00\u001b[0m\n",
            "\u001b[?25h"
          ]
        }
      ]
    },
    {
      "cell_type": "code",
      "source": [
        "from google.adk.agents import Agent\n",
        "from google.adk.runners import Runner\n",
        "from google.adk.sessions import InMemorySessionService\n",
        "from google.adk.tools import google_search\n",
        "from google.genai import types  # Para criar conteúdos (Content e Part)\n",
        "from datetime import date\n",
        "import textwrap # Para formatar melhor a saída de texto\n",
        "from IPython.display import display, Markdown # Para exibir texto formatado no Colab\n",
        "from IPython.display import Markdown, display\n",
        "import requests # Para fazer requisições HTTP\n",
        "import warnings\n",
        "import json\n",
        "\n",
        "warnings.filterwarnings(\"ignore\")"
      ],
      "metadata": {
        "id": "k-_z4Z5aGEr0"
      },
      "execution_count": 29,
      "outputs": []
    },
    {
      "cell_type": "code",
      "source": [
        "# Função auxiliar que envia uma mensagem para um agente via Runner e retorna a resposta final\n",
        "def call_agent(agent: Agent, message_text: str) -> str:\n",
        "    # Cria um serviço de sessão em memória\n",
        "    session_service = InMemorySessionService()\n",
        "    # Cria uma nova sessão (você pode personalizar os IDs conforme necessário)\n",
        "    session = session_service.create_session(app_name=agent.name, user_id=\"user1\", session_id=\"session1\")\n",
        "    # Cria um Runner para o agente\n",
        "    runner = Runner(agent=agent, app_name=agent.name, session_service=session_service)\n",
        "    # Cria o conteúdo da mensagem de entrada\n",
        "    content = types.Content(role=\"user\", parts=[types.Part(text=message_text)])\n",
        "\n",
        "    final_response = \"\"\n",
        "    # Itera assincronamente pelos eventos retornados durante a execução do agente\n",
        "    for event in runner.run(user_id=\"user1\", session_id=\"session1\", new_message=content):\n",
        "        if event.is_final_response():\n",
        "          for part in event.content.parts:\n",
        "            if part.text is not None:\n",
        "              final_response += part.text\n",
        "\n",
        "    # Verifica se a resposta começa e termina com marcadores de bloco de código JSON\n",
        "    if final_response.strip().startswith(\"```json\") and final_response.strip().endswith(\"```\"):\n",
        "        # Encontra o início do JSON real após ```json\\n\n",
        "        json_start = final_response.find(\"```json\\n\") + len(\"```json\\n\")\n",
        "        # Encontra o final do JSON real antes de \\n```\n",
        "        json_end = final_response.rfind(\"\\n```\")\n",
        "        # Extrai apenas a string JSON\n",
        "        final_response = final_response[json_start:json_end].strip()\n",
        "\n",
        "    return final_response.strip() # Remove espaços em branco extras no final"
      ],
      "metadata": {
        "id": "_xP4lWhsS5ko"
      },
      "execution_count": 23,
      "outputs": []
    },
    {
      "cell_type": "code",
      "source": [
        "def to_markdown(text):\n",
        "    text = text.replace('•', '  *')\n",
        "    return Markdown(text)"
      ],
      "metadata": {
        "id": "8dosiodaxfFR"
      },
      "execution_count": 71,
      "outputs": []
    },
    {
      "cell_type": "code",
      "source": [
        "##############################################\n",
        "# --- Agente 1: Coletor de Informações --- #\n",
        "##############################################\n",
        "\n",
        "def agente_coletor_organizador_informacoes():\n",
        "\n",
        "    coletor = Agent(\n",
        "        name=\"agente_coletor_informacoes\",\n",
        "        model=\"gemini-2.0-flash\",\n",
        "        instruction=\"\"\"\n",
        "        Você é o Agente Coletor e Organizador de Informações para um assistente de decisão de compras.\n",
        "        Leia a entrada de texto do usuário sobre uma compra planejada e extraia os seguintes dados:\n",
        "        - Produto (modelo, marca, specs)\n",
        "        - Preço estimado\n",
        "        - Orçamento disponível\n",
        "        - Tipo de compra (necessidade/desejo)\n",
        "        - Frequência de uso\n",
        "        - Possui item similar (sim/não)\n",
        "        - Prioridade principal (qualidade, preço, durabilidade, funcionalidades, etc.)\n",
        "        - Urgência da compra\n",
        "\n",
        "        Organize os dados extraídos em um objeto JSON estruturado.\n",
        "        A SAÍDA DEVE SER ESTRITAMENTE O OBJETO JSON.\n",
        "        Mapeie os dados extraídos para chaves JSON apropriadas.\n",
        "        Se alguma informação estiver faltando, use um valor como \"não especificado\" ou nulo no JSON.\n",
        "        Não coloque acentos ou caracteres especiais nos objetos e chaves JSON.\n",
        "        \"\"\",\n",
        "        description=\"Agente que coleta e organiza informações iniciais do usuário.\"\n",
        "        )\n",
        "\n",
        "    print(\"Olá! Sou o primeiro agente do seu assistente de decisão de compras.\")\n",
        "    print(\"Por favor, descreva sobre o produto que você pensa em comprar e sua situação, incluindo:\")\n",
        "    print(\"- O produto específico (modelo, marca, etc.)\")\n",
        "    print(\"- O preço estimado do produto\")\n",
        "    print(\"- Seu orçamento disponível\")\n",
        "    print(\"- Se é necessidade ou desejo\")\n",
        "    print(\"- Com que frequência usaria\")\n",
        "    print(\"- Se possui algo similar\")\n",
        "    print(\"- Qual sua maior prioridade na compra\")\n",
        "    print(\"- Se há urgência\")\n",
        "    print(\"\\nDigite suas informações em um único texto:\")\n",
        "\n",
        "    # Captura a entrada de texto bruta do usuário\n",
        "    entrada_bruta_usuario = input()\n",
        "\n",
        "    if not entrada_bruta_usuario:\n",
        "        print(\"\\nVocê não forneceu nenhuma informação.\")\n",
        "        return None\n",
        "\n",
        "    print(\"\\nProcessando suas informações...\")\n",
        "\n",
        "    # Chama o agente para processar a entrada bruta e retornar o JSON\n",
        "    # A função call_agent retornará o texto bruto gerado pelo modelo (que esperamos ser o JSON)\n",
        "    dados_estruturados_json_str = call_agent(coletor, entrada_bruta_usuario)\n",
        "\n",
        "    # Tenta carregar a string JSON em um dicionário Python\n",
        "    try:\n",
        "        dados_estruturados = json.loads(dados_estruturados_json_str)\n",
        "        print(\"\\n--- 🎉 Informações Coletadas e Organizadas (JSON) ---\")\n",
        "        # Use display(to_markdown(...)) se quiser exibir o JSON formatado como markdown\n",
        "        print(json.dumps(dados_estruturados, indent=2)) # Exibe o JSON formatado no console\n",
        "        return dados_estruturados # Retorna o dicionário pronto para o Agente 2\n",
        "    except json.JSONDecodeError as e:\n",
        "        print(\"\\n--- ⚠️ Erro ao processar as informações ---\")\n",
        "        print(f\"Não foi possível estruturar as respostas do usuário no formato JSON. Erro: {e}\")\n",
        "        print(\"Resposta bruta recebida do agente (não é JSON válido):\")\n",
        "        print(dados_estruturados_json_str) # Mostra o que o agente retornou se não for JSON válido\n",
        "        return None # Retorna None em caso de erro no parsing JSON"
      ],
      "metadata": {
        "id": "o8bqIfi_DyH8"
      },
      "execution_count": 77,
      "outputs": []
    },
    {
      "cell_type": "code",
      "source": [
        "####################################################\n",
        "# --- Agente 2: Pesquisador de Mercado --- #\n",
        "####################################################\n",
        "def agente_pesquisador_mercado(dados_usuario_json, data_atual):\n",
        "    pesquisador = Agent(\n",
        "        name=\"agente_pesquisador_mercado\",\n",
        "        model=\"gemini-2.0-flash\",\n",
        "        instruction=f\"\"\"\n",
        "        Você é o Agente Pesquisador de Mercado para um assistente de decisão de compras.\n",
        "        Sua tarefa é analisar as alternativas disponíveis no mercado para o produto desejado pelo usuário,\n",
        "        utilizando as informações fornecidas pelo Agente 1 (contidas no JSON) e a data atual: {data_atual}.\n",
        "\n",
        "        Com base nos 'dados_usuario_json' (que contém o produto, orçamento, prioridade, etc.),\n",
        "        faça o seguinte usando a ferramenta de busca do Google (Google Search):\n",
        "\n",
        "        1. Identifique produtos similares no mercado, considerando a descrição do produto ('produto'),\n",
        "           a prioridade principal ('prioridade_principal') e o orçamento ('orcamento_disponivel').\n",
        "           Busque por diferentes faixas de preço e especificações variadas.\n",
        "        2. Compare as especificações técnicas e recursos entre o produto desejado e as 3-5 alternativas mais relevantes encontradas.\n",
        "        3. Analise o custo-benefício inicial dessas alternativas com base nas especificações e preços encontrados.\n",
        "        4. Verifique tendências de preço para o produto desejado e as alternativas (se estão em promoção, histórico de preços recente).\n",
        "        5. Identifique novos lançamentos ou tecnologias recentes no segmento do produto que possam influenciar a decisão de compra.\n",
        "\n",
        "        Organize as informações encontradas de forma clara e concisa, destacando os pontos de comparação e as tendências relevantes.\n",
        "        Apresente as principais alternativas com suas características e preços comparativos.\n",
        "        Não inclua opiniões pessoais, apenas os dados da pesquisa.\n",
        "        Seja objetivo e ajude o usuário a ter uma visão geral do mercado para o produto em questão.\n",
        "\n",
        "        **Formato de Saída:**\n",
        "        Apresente os resultados de forma organizada e fácil de ler, utilizando marcadores de lista (-) e quebras de linha entre as seções.\n",
        "        Comece com um breve resumo da pesquisa.\n",
        "        Em seguida, liste as alternativas de produtos encontrados, incluindo marca, modelo, preço estimado e principais especificações/diferenciais em formato de lista.\n",
        "        Inclua uma seção sobre tendências de preço e outra sobre novos lançamentos relevantes.\n",
        "        Use títulos ou subtítulos simples (sem formatação Markdown complexa) para cada seção.\n",
        "        Não inclua opiniões pessoais, apenas os dados da pesquisa.\n",
        "        Seja objetivo e ajude o usuário a ter uma visão geral do mercado para o produto em questão.\n",
        "        \"\"\"\n",
        "        ,\n",
        "        description=\"Agente que pesquisa e compara alternativas de produtos no mercado.\"\n",
        "        ,\n",
        "        tools=[google_search]\n",
        "    )\n",
        "\n",
        "    print(\"\\n--- 🔍 Agente 2: Pesquisador de Mercado em ação! ---\")\n",
        "    print(\"Analisando o mercado para encontrar as melhores alternativas...\")\n",
        "\n",
        "    # Prepara a entrada para o agente usando as informações do Agente 1 e a data atual\n",
        "    # Convertendo o dicionário de dados do usuário de volta para uma string JSON para passar como entrada\n",
        "    entrada_para_pesquisador = f\"Dados do usuário: {json.dumps(dados_usuario_json)}\\nData atual: {data_atual}\"\n",
        "\n",
        "    # Executa o agente\n",
        "    # A função call_agent agora precisa ser capaz de receber a string JSON como entrada\n",
        "    resultado_pesquisa = call_agent(pesquisador, entrada_para_pesquisador)\n",
        "\n",
        "    print(\"\\n--- ✅ Pesquisa de Mercado Concluída ---\")\n",
        "    return resultado_pesquisa"
      ],
      "metadata": {
        "id": "y3VO1uo5_ghO"
      },
      "execution_count": 78,
      "outputs": []
    },
    {
      "cell_type": "code",
      "source": [
        "##########################################################\n",
        "# --- Agente 3: Análise de Reviews e Reputação --- #\n",
        "##########################################################\n",
        "def agente_analise_reviews(informacoes_mercado):\n",
        "    analisador_reviews = Agent(\n",
        "        name=\"agente_analise_reviews\",\n",
        "        model=\"gemini-2.0-flash\",\n",
        "        instruction=\"\"\"\n",
        "        Você é o Agente de Análise de Reviews e Reputação para um assistente de decisão de compras.\n",
        "        Você receberá informações sobre o produto desejado e as alternativas de mercado identificadas pelo Agente 2.\n",
        "        Sua tarefa é buscar e sintetizar informações qualitativas sobre a experiência de outros consumidores\n",
        "        para o produto desejado e as alternativas relevantes, utilizando a ferramenta de busca do Google (Google Search).\n",
        "\n",
        "        Com base nas 'informacoes_mercado' fornecidas:\n",
        "\n",
        "        1. Para o produto desejado e cada alternativa listada, colete reviews e avaliações de usuários em\n",
        "           plataformas de e-commerce (como Amazon, Magazine Luiza, etc.), sites especializados em reviews de produtos,\n",
        "           e fóruns de discussão (como Reddit, fóruns de tecnologia, etc.).\n",
        "        2. Analise a reputação geral da marca do produto desejado e das alternativas, bem como, se possível, a reputação de vendedores relevantes.\n",
        "        3. Identifique os pontos positivos e negativos mais recorrentes mencionados pelos consumidores para cada produto analisado.\n",
        "        4. Compare a satisfação geral dos usuários com o produto desejado versus as alternativas principais.\n",
        "        5. Sintetize as principais reclamações e elogios encontrados, destacando padrões e temas comuns.\n",
        "\n",
        "        **Formato de Saída:**\n",
        "        Apresente a análise de reviews e reputação de forma clara e estruturada.\n",
        "        Para cada produto (o desejado e as alternativas principais), forneça um resumo conciso da \"voz do consumidor\".\n",
        "        Inclua os principais pontos positivos e negativos em formato de lista para cada produto.\n",
        "        Se possível, inclua um breve comentário sobre a reputação da marca/vendedor.\n",
        "        Use quebras de linha e marcadores de lista (-) para facilitar a leitura.\n",
        "        \"\"\"\n",
        "        ,\n",
        "        description=\"Agente que busca e sintetiza reviews de usuários e informações de reputação.\"\n",
        "        ,\n",
        "        tools=[google_search] # Necessário para realizar buscas na web\n",
        "    )\n",
        "\n",
        "    print(\"\\n--- 👂 Agente 3: Análise de Reviews e Reputação em ação! ---\")\n",
        "    print(\"Buscando o que os consumidores estão dizendo sobre os produtos...\")\n",
        "\n",
        "    # A entrada para este agente será o resultado do Agente 2\n",
        "    entrada_para_analisador = informacoes_mercado\n",
        "\n",
        "    # Executa o agente\n",
        "    resultado_analise = call_agent(analisador_reviews, entrada_para_analisador)\n",
        "\n",
        "    print(\"\\n--- ✅ Análise de Reviews e Reputação Concluída ---\")\n",
        "    return resultado_analise"
      ],
      "metadata": {
        "id": "uOqlg2TRLVh1"
      },
      "execution_count": 79,
      "outputs": []
    },
    {
      "cell_type": "code",
      "source": [
        "######################################################\n",
        "# --- Agente 4: Analista Financeiro --- #\n",
        "######################################################\n",
        "def agente_analista_financeiro(dados_usuario, informacoes_mercado, analise_reviews):\n",
        "    analista_financeiro = Agent(\n",
        "        name=\"agente_analista_financeiro\",\n",
        "        model=\"gemini-2.0-flash\",\n",
        "        instruction=\"\"\"\n",
        "        Você é o Agente Analista Financeiro para um assistente de decisão de compras.\n",
        "        Você receberá informações detalhadas do usuário e do produto (Agente 1), dados de mercado (Agente 2)\n",
        "        e a análise de reviews e reputação (Agente 3).\n",
        "        Sua tarefa é avaliar o impacto financeiro da compra na situação particular do usuário,\n",
        "        considerando todos esses insumos.\n",
        "\n",
        "        Com base nos 'dados_usuario', 'informacoes_mercado' e 'analise_reviews' fornecidos:\n",
        "\n",
        "        1. Calcule o impacto percentual do preço do produto desejado (e das alternativas) no\n",
        "           orçamento disponível do usuário ('orcamento_disponivel' em dados_usuario). Considere\n",
        "           o preço estimado ou os preços encontrados pelo Agente 2.\n",
        "        2. Avalie o custo total de propriedade (CTP) para o produto desejado e as alternativas.\n",
        "           Inclua custos óbvios como manutenção, energia (se aplicável), acessórios necessários,\n",
        "           e incorpore insights dos 'analise_reviews' sobre problemas recorrentes que geram gastos.\n",
        "        3. Estime a depreciação do produto ao longo do tempo, com base em dados de mercado gerais (se disponível via busca)\n",
        "           e na percepção de durabilidade vinda dos 'analise_reviews'.\n",
        "        4. Analise o impacto de diferentes formas de pagamento (à vista, parcelado) e possíveis juros no custo final.\n",
        "           Considere o 'orcamento_disponivel' e a 'urgencia_da_compra' de dados_usuario.\n",
        "        5. Forneça uma avaliação sobre se o momento financeiro parece adequado para a compra,\n",
        "           com base no 'tipo_de_compra' (necessidade/desejo), 'orcamento_disponivel' e 'urgencia_da_compra'.\n",
        "        6. Sugira alternativas financeiras à compra direta, como alugar o produto, buscar opções de compartilhamento,\n",
        "           ou a possibilidade de aguardar por promoções ou melhores condições financeiras.\n",
        "\n",
        "        **Formato de Saída:**\n",
        "        - Caracteres especiais devem ser tratados adequadamente.\n",
        "        - deve adicionar espaço antes e depois de \"R$\".\n",
        "        - Apresente a análise financeira de forma clara e organizada.\n",
        "        - Use títulos para as seções (Impacto no Orçamento, Custo Total de Propriedade, Depreciação, Opções de Pagamento,\n",
        "        - Adequação Financeira, Alternativas).\n",
        "        - Utilize marcadores de lista (-) para detalhar os pontos dentro de cada seção.\n",
        "        - Seja objetivo e direto na análise financeira.\n",
        "        \"\"\"\n",
        "        ,\n",
        "        description=\"Agente que analisa o impacto financeiro da compra para o usuário.\"\n",
        "        ,\n",
        "        # Manter a ferramenta de busca pode ser útil para buscar dados gerais sobre depreciação ou opções de pagamento\n",
        "        tools=[google_search]\n",
        "    )\n",
        "\n",
        "    print(\"\\n--- 💰 Agente 4: Analista Financeiro em ação! ---\")\n",
        "    print(\"Avaliando o impacto financeiro da sua decisão...\")\n",
        "\n",
        "    # Prepara a entrada para o agente combinando os resultados dos agentes anteriores\n",
        "    entrada_para_analista = f\"Dados do Usuário (Agente 1):\\n{json.dumps(dados_usuario, indent=2)}\\n\\n\" \\\n",
        "                           f\"Informações de Mercado (Agente 2):\\n{informacoes_mercado}\\n\\n\" \\\n",
        "                           f\"Análise de Reviews (Agente 3):\\n{analise_reviews}\"\n",
        "\n",
        "\n",
        "    # Executa o agente\n",
        "    resultado_analise_financeira = call_agent(analista_financeiro, entrada_para_analista)\n",
        "\n",
        "    print(\"\\n--- ✅ Análise Financeira Concluída ---\")\n",
        "    return resultado_analise_financeira"
      ],
      "metadata": {
        "id": "_aTb1SdkLeT6"
      },
      "execution_count": 81,
      "outputs": []
    },
    {
      "cell_type": "code",
      "source": [
        "######################################################\n",
        "# --- Agente 5: Tomador de Decisão Final --- #\n",
        "######################################################\n",
        "def agente_tomador_decisao(dados_usuario, informacoes_mercado, analise_reviews, analise_financeira):\n",
        "    tomador_decisao = Agent(\n",
        "        name=\"agente_tomador_decisao_final\",\n",
        "        model=\"gemini-2.0-flash\",\n",
        "        instruction=\"\"\"\n",
        "        Você é o Agente Tomador de Decisão Final para um assistente de decisão de compras.\n",
        "        Você receberá as informações e análises completas dos agentes anteriores:\n",
        "        - Dados detalhados do usuário (Agente 1)\n",
        "        - Pesquisa de mercado e alternativas (Agente 2)\n",
        "        - Análise de reviews e reputação (Agente 3)\n",
        "        - Análise financeira completa (Agente 4)\n",
        "\n",
        "        Sua tarefa é integrar todas essas informações e fornecer um veredito claro e justificado sobre a recomendação de compra para o produto desejado pelo usuário.\n",
        "\n",
        "        **Com base nos insumos dos agentes anteriores:**\n",
        "\n",
        "        1. Avalie a compatibilidade do produto desejado com as necessidades, prioridades, orçamento e situação do usuário (dados do Agente 1).\n",
        "        2. Considere as alternativas de mercado, preços e tendências identificadas (Agente 2).\n",
        "        3. Integre os insights sobre a experiência de outros usuários, pontos positivos/negativos e reputação (Agente 3).\n",
        "        4. Leve em conta a análise financeira, incluindo impacto no orçamento, Custo Total de Propriedade, depreciação e opções de pagamento (Agente 4).\n",
        "        5. Pondere todos os fatores para chegar a um veredito: RECOMENDADO, NÃO RECOMENDADO ou RECOMENDADO COM RESSALVAS.\n",
        "\n",
        "        **Formato de Saída:**\n",
        "        Apresente o veredito no seguinte formato, utilizando marcadores de lista (-) e quebras de linha:\n",
        "\n",
        "        Com base em todas as informações coletadas e análises realizadas, meu veredito sobre a compra do [Nome do Produto - extraído dos dados do Agente 1] é:\n",
        "\n",
        "        **[VEREDITO: RECOMENDADO / NÃO RECOMENDADO / RECOMENDADO COM RESSALVAS]**\n",
        "\n",
        "        Justificativa principal:\n",
        "        - [Resumo conciso da principal razão para a recomendação, integrando insights cruciais de mercado, financeiros e de reputação]\n",
        "\n",
        "        Fatores decisivos:\n",
        "        - [Fator financeiro relevante - baseado na análise do Agente 4]\n",
        "        - [Fator de utilidade/necessidade - baseado nas informações do Agente 1]\n",
        "        - [Fator de mercado/timing - baseado na análise do Agente 2]\n",
        "        - [Fator de experiência do usuário/reputação - baseado na análise do Agente 3]\n",
        "\n",
        "        Pontos de atenção (baseado nos reviews e análises):\n",
        "        - [Mencionar um ou dois pontos negativos recorrentes ou ressalvas importantes identificadas pelo Agente 3 e 4]\n",
        "\n",
        "        Recomendações adicionais:\n",
        "        - [Sugestão específica sobre como, quando ou onde realizar a compra, considerando os insights de todos os agentes]\n",
        "        - [Alternativa a considerar, se aplicável e alinhada com as análises]\n",
        "        - [Precauções a tomar, especialmente com base nos problemas identificados nos reviews]\n",
        "        \"\"\"\n",
        "        ,\n",
        "        description=\"Agente que integra todas as análises e fornece a recomendação final de compra.\"\n",
        "    )\n",
        "\n",
        "    print(\"\\n--- ✅ Agente 5: Tomador de Decisão Final em ação! ---\")\n",
        "    print(\"Consolidando todas as informações para o veredito final...\")\n",
        "\n",
        "    # Prepara a entrada para o agente combinando os resultados de todos os agentes anteriores\n",
        "    # É importante passar as informações de forma estruturada para o agente interpretar corretamente\n",
        "    entrada_para_tomador_decisao = f\"Dados do Usuário (Agente 1):\\n{json.dumps(dados_usuario, indent=2)}\\n\\n\" \\\n",
        "                                  f\"Informações de Mercado (Agente 2):\\n{informacoes_mercado}\\n\\n\" \\\n",
        "                                  f\"Análise de Reviews (Agente 3):\\n{analise_reviews}\\n\\n\" \\\n",
        "                                  f\"Análise Financeira (Agente 4):\\n{analise_financeira}\"\n",
        "\n",
        "\n",
        "    # Executa o agente\n",
        "    veredicto_final = call_agent(tomador_decisao, entrada_para_tomador_decisao)\n",
        "\n",
        "    print(\"\\n--- 🎉 Veredito Final Concluído! ---\")\n",
        "    return veredicto_final"
      ],
      "metadata": {
        "id": "67C580TrmRfl"
      },
      "execution_count": 82,
      "outputs": []
    },
    {
      "cell_type": "code",
      "source": [
        "from datetime import date\n",
        "from IPython.display import display, Markdown\n",
        "import json # Importar json para trabalhar com os dados do Agente 1\n",
        "\n",
        "data_de_hoje = date.today().strftime(\"%d/%m/%Y\")\n",
        "\n",
        "print(\"🚀 Iniciando o Assistente de Decisão de Compras com 5 Agentes 🚀\")\n",
        "print(\"--------------------------------------------------------------\")\n",
        "\n",
        "# --- Etapa 1: Coleta e Organização de Informações (Agente 1) ---\n",
        "informacoes_usuario_organizadas = agente_coletor_organizador_informacoes()\n",
        "\n",
        "# Verifica se o Agente 1 retornou informações válidas\n",
        "if informacoes_usuario_organizadas:\n",
        "    print(\"\\n--- ✅ Informações do Usuário Coletadas e Organizadas ---\")\n",
        "    # Não exibimos o JSON formatado em Markdown aqui, apenas o print no console já foi feito na função do Agente 1\n",
        "    print(\"--------------------------------------------------------------\")\n",
        "\n",
        "    # --- Etapa 2: Pesquisa de Mercado (Agente 2) ---\n",
        "    resultado_pesquisa_mercado = agente_pesquisador_mercado(informacoes_usuario_organizadas, data_de_hoje)\n",
        "\n",
        "    print(\"\\n--- 🎉 Resultado da Pesquisa de Mercado ---\")\n",
        "    display(to_markdown(resultado_pesquisa_mercado)) # Exibe o resultado do Agente 2 formatado\n",
        "    print(\"--------------------------------------------------------------\")\n",
        "\n",
        "    # --- Etapa 3: Análise de Reviews e Reputação (Agente 3) ---\n",
        "    resultado_analise_reviews = agente_analise_reviews(resultado_pesquisa_mercado)\n",
        "\n",
        "    print(\"\\n--- 🎉 Resultado da Análise de Reviews e Reputação ---\")\n",
        "    display(to_markdown(resultado_analise_reviews)) # Exibe o resultado do Agente 3 formatado\n",
        "    print(\"--------------------------------------------------------------\")\n",
        "\n",
        "    # --- Etapa 4: Análise Financeira (Agente 4) ---\n",
        "    resultado_analise_financeira = agente_analista_financeiro(\n",
        "        informacoes_usuario_organizadas,\n",
        "        resultado_pesquisa_mercado,\n",
        "        resultado_analise_reviews\n",
        "    )\n",
        "\n",
        "    print(\"\\n--- 🎉 Resultado da Análise Financeira ---\")\n",
        "    # Optamos por exibir a análise financeira formatada em Markdown\n",
        "    display(to_markdown(resultado_analise_financeira))\n",
        "    print(\"--------------------------------------------------------------\")\n",
        "\n",
        "\n",
        "    # --- Etapa 5: Tomador de Decisão Final (Agente 5) ---\n",
        "    # Este agente recebe todas as saídas anteriores\n",
        "    veredicto_final_compra = agente_tomador_decisao(\n",
        "        informacoes_usuario_organizadas,\n",
        "        resultado_pesquisa_mercado,\n",
        "        resultado_analise_reviews,\n",
        "        resultado_analise_financeira\n",
        "    )\n",
        "\n",
        "    print(\"\\n--- 🏆 Recomendação Final de Compra ---\")\n",
        "    display(to_markdown(veredicto_final_compra)) # Exibe o veredito final formatado\n",
        "    print(\"--------------------------------------------------------------\")\n",
        "\n",
        "else:\n",
        "    print(\"\\n--- ❌ O processo foi interrompido pois as informações iniciais do usuário não foram coletadas corretamente.\")"
      ],
      "metadata": {
        "id": "630ummxz4myx",
        "colab": {
          "base_uri": "https://localhost:8080/",
          "height": 1000
        },
        "outputId": "236968be-a497-44ba-cfd5-a6aee6d11c98"
      },
      "execution_count": 83,
      "outputs": [
        {
          "output_type": "stream",
          "name": "stdout",
          "text": [
            "🚀 Iniciando o Assistente de Decisão de Compras com 5 Agentes 🚀\n",
            "--------------------------------------------------------------\n",
            "Olá! Sou o primeiro agente do seu assistente de decisão de compras.\n",
            "Por favor, descreva sobre o produto que você pensa em comprar e sua situação, incluindo:\n",
            "- O produto específico (modelo, marca, etc.)\n",
            "- O preço estimado do produto\n",
            "- Seu orçamento disponível\n",
            "- Se é necessidade ou desejo\n",
            "- Com que frequência usaria\n",
            "- Se possui algo similar\n",
            "- Qual sua maior prioridade na compra\n",
            "- Se há urgência\n",
            "\n",
            "Digite suas informações em um único texto:\n",
            "PlayStation 5 slim, R$ 3800, R$ 4000, é desejo meu, usaria 4 vezes na semana, possuo um playstation 4 de similar, minha maior prioridade é o preço mais baixo, não há urgência\n",
            "\n",
            "Processando suas informações...\n",
            "\n",
            "--- 🎉 Informações Coletadas e Organizadas (JSON) ---\n",
            "{\n",
            "  \"produto\": \"PlayStation 5 slim\",\n",
            "  \"preco_estimado\": 3800,\n",
            "  \"orcamento_disponivel\": 4000,\n",
            "  \"tipo_de_compra\": \"desejo\",\n",
            "  \"frequencia_de_uso\": \"4 vezes por semana\",\n",
            "  \"possui_item_similar\": \"sim\",\n",
            "  \"prioridade_principal\": \"preco\",\n",
            "  \"urgencia_da_compra\": \"nenhuma\"\n",
            "}\n",
            "\n",
            "--- ✅ Informações do Usuário Coletadas e Organizadas ---\n",
            "--------------------------------------------------------------\n",
            "\n",
            "--- 🔍 Agente 2: Pesquisador de Mercado em ação! ---\n",
            "Analisando o mercado para encontrar as melhores alternativas...\n",
            "\n",
            "--- ✅ Pesquisa de Mercado Concluída ---\n",
            "\n",
            "--- 🎉 Resultado da Pesquisa de Mercado ---\n"
          ]
        },
        {
          "output_type": "display_data",
          "data": {
            "text/plain": [
              "<IPython.core.display.Markdown object>"
            ],
            "text/markdown": "Ok, entendi. Com base nos dados fornecidos, vou analisar o mercado em busca de alternativas para o PlayStation 5 Slim, focando em preço e considerando um orçamento de até R$ 4000. A seguir, apresentarei as alternativas encontradas, comparando especificações e preços, além de verificar tendências de preço e lançamentos recentes.\n\nCom base na pesquisa realizada em 17 de maio de 2025, apresento um resumo das alternativas ao PlayStation 5 Slim, focando no preço e nas especificações:\n\n **Resumo da Pesquisa**\n\n O PlayStation 5 Slim está disponível em diversas versões (digital e com leitor de disco), com preços variando.  A edição digital pode ser encontrada por volta de R$3.343,12 a R$3.799,00 e a versão com disco a partir de R$4.195,00.  O Xbox Series X surge como principal alternativa, com desempenho similar, mas com foco diferente em jogos exclusivos e serviços.\n\n **Alternativas ao PlayStation 5 Slim**\n\n *   **PlayStation 5 Slim Edição Digital:**\n    *   Preço estimado: R$ 3.499,59 - R$ 3.999,00\n    *   Especificações: SSD de 1TB, sem leitor de disco, acompanha 2 jogos digitais em algumas ofertas.\n    *   Diferenciais: Mais compacto, ideal para quem prefere jogos digitais.\n\n *   **PlayStation 5 Slim com Leitor de Disco:**\n    *   Preço estimado: A partir de R$4.195,00\n    *   Especificações: SSD de 1TB, leitor de disco Blu-ray, permite usar mídias físicas.\n    *   Diferenciais: Compatível com jogos em mídia física, maior flexibilidade.\n\n *   **Xbox Series X:**\n    *   Preço estimado: Varia bastante, mas pode ser encontrado na mesma faixa de preço do PS5 Slim.\n    *   Especificações: SSD de 1TB, leitor de disco Blu-ray, maior poder de processamento (12 TFLOPS).\n    *   Diferenciais: Serviço Game Pass (biblioteca de jogos por assinatura), retrocompatibilidade com jogos de gerações anteriores.\n\n**Tendências de Preço**\n\n *   O PS5 Slim teve promoções no passado (Black Friday, Cyber Monday), chegando a custar R$2.568 com cupons de desconto (em 2024).\n *   É importante monitorar as lojas online para verificar se há promoções ou cupons disponíveis.\n\n **Novos Lançamentos e Tecnologias**\n\n *   Em 2025, há diversos lançamentos de jogos para PS5 e Xbox Series X, como Doom: The Dark Ages e Elden Ring Nightreign.\n *   A Sony anunciou novos DualSense e capas para PS5 Slim com acabamento perolado.\n\n **Comparativo Rápido:**\n\n | Característica     | PlayStation 5 Slim                                  | Xbox Series X                                          |\n | :------------------ | :-------------------------------------------------- | :----------------------------------------------------- |\n | Preço Estimado     | R$ 3.499,59 - R$ 4.195,00+                           | Similar ao PS5 Slim                                    |\n | Mídia Física       | Opcional (versão com leitor de disco)               | Sim                                                    |\n | SSD                | 1 TB                                                | 1 TB                                                   |\n | Teraflops (GPU)    | 10.3                                                | 12                                                     |\n | Serviços           | PlayStation Plus                                     | Xbox Game Pass                                         |\n | Jogos Exclusivos   | God of War, Spider-Man, Gran Turismo                 | Forza, Halo, Microsoft Flight Simulator                  |\n | Tamanho            | Mais compacto                                       | Mais robusto                                           |"
          },
          "metadata": {}
        },
        {
          "output_type": "stream",
          "name": "stdout",
          "text": [
            "--------------------------------------------------------------\n",
            "\n",
            "--- 👂 Agente 3: Análise de Reviews e Reputação em ação! ---\n",
            "Buscando o que os consumidores estão dizendo sobre os produtos...\n",
            "\n",
            "--- ✅ Análise de Reviews e Reputação Concluída ---\n",
            "\n",
            "--- 🎉 Resultado da Análise de Reviews e Reputação ---\n"
          ]
        },
        {
          "output_type": "display_data",
          "data": {
            "text/plain": [
              "<IPython.core.display.Markdown object>"
            ],
            "text/markdown": "Ok, com base nas informações de mercado que você me forneceu, vou buscar e sintetizar informações qualitativas sobre a experiência de outros consumidores para o PlayStation 5 Slim e o Xbox Series X, focando nos seguintes pontos:\n\n1.  **Reviews e avaliações:** Coletar feedback de usuários em plataformas de e-commerce, sites especializados e fóruns.\n2.  **Reputação:** Analisar a reputação geral da marca PlayStation/Sony e Xbox/Microsoft, e de vendedores relevantes, se possível.\n3.  **Pontos positivos e negativos:** Identificar os aspectos mais elogiados e criticados pelos consumidores para cada produto.\n4.  **Comparativo de satisfação:** Comparar a satisfação geral dos usuários com o PS5 Slim versus o Xbox Series X.\n5.  **Reclamações e elogios:** Sintetizar os principais padrões de reclamações e elogios.\n\nCom base nas análises e reviews coletadas, aqui está um resumo da \"voz do consumidor\" para o PlayStation 5 Slim e o Xbox Series X:\n\n**PlayStation 5 Slim**\n\n*   **Pontos Positivos:**\n    *   **Design Compacto:** Muitos usuários apreciam o tamanho menor e mais elegante do PS5 Slim em comparação com o modelo original.\n    *   **Desempenho:** O desempenho é geralmente considerado excelente, com tempos de carregamento rápidos e gráficos impressionantes.\n    *   **DualSense:** O controle DualSense é frequentemente elogiado por sua imersão e feedback háptico.\n    *   **Flexibilidade:** A opção de comprar a versão digital e adicionar um leitor de disco posteriormente é vista como uma vantagem.\n\n*   **Pontos Negativos:**\n    *   **Superaquecimento:** Alguns usuários relatam problemas de superaquecimento, mesmo em consoles novos.\n    *   **Problemas de Hardware:** Há relatos de problemas com o leitor de disco e outros defeitos de hardware.\n    *   **Falta de Garantia:** A falta de garantia em unidades importadas é uma preocupação para alguns consumidores.\n    *   **Preço:** Alguns consideram o preço ainda alto, especialmente em comparação com o Xbox Series X no mercado de usados.\n\n*   **Reputação:**\n    *   A marca PlayStation (Sony) geralmente tem uma boa reputação, mas os relatos de problemas de hardware no PS5 Slim podem afetar a percepção dos consumidores.\n\n**Xbox Series X**\n\n*   **Pontos Positivos:**\n    *   **Poder de Processamento:** O Xbox Series X é elogiado por seu poder de processamento e capacidade de rodar jogos em 4K a 60fps ou 120fps.\n    *   **Game Pass:** O serviço Game Pass é um grande atrativo, oferecendo acesso a uma vasta biblioteca de jogos por um preço razoável.\n    *   **Retrocompatibilidade:** A retrocompatibilidade com jogos de gerações anteriores é uma vantagem para muitos usuários.\n    *   **Quick Resume:** A funcionalidade Quick Resume, que permite alternar entre jogos rapidamente, é muito apreciada.\n\n*   **Pontos Negativos:**\n    *   **Falta de Exclusivos:** Alguns críticos apontam para a falta de jogos exclusivos de peso em comparação com o PlayStation 5.\n    *   **Problemas de Software:** Há relatos de bugs e travamentos de jogos, que podem ser frustrantes para os usuários.\n    *   **Design:** O design do Xbox Series X pode não agradar a todos, com alguns achando-o volumoso e pouco atraente.\n\n*   **Reputação:**\n    *   A marca Xbox (Microsoft) tem uma boa reputação, mas os problemas de software relatados por alguns usuários podem prejudicar a imagem do console.\n\n**Comparativo de Satisfação:**\n\n*   A satisfação geral dos usuários parece ser alta para ambos os consoles, mas cada um tem seus pontos fortes e fracos.\n*   O PlayStation 5 Slim atrai aqueles que valorizam design, exclusivos e imersão, enquanto o Xbox Series X agrada aqueles que buscam poder de processamento, acesso a uma vasta biblioteca de jogos e retrocompatibilidade.\n\n**Reclamações e Elogios:**\n\n*   **PS5 Slim:**\n    *   **Reclamações:** Superaquecimento, problemas de hardware, falta de garantia.\n    *   **Elogios:** Design compacto, desempenho, DualSense.\n*   **Xbox Series X:**\n    *   **Reclamações:** Bugs, travamentos, falta de exclusivos.\n    *   **Elogios:** Poder de processamento, Game Pass, retrocompatibilidade.\n\nEspero que esta análise detalhada ajude na sua decisão de compra!"
          },
          "metadata": {}
        },
        {
          "output_type": "stream",
          "name": "stdout",
          "text": [
            "--------------------------------------------------------------\n",
            "\n",
            "--- 💰 Agente 4: Analista Financeiro em ação! ---\n",
            "Avaliando o impacto financeiro da sua decisão...\n",
            "\n",
            "--- ✅ Análise Financeira Concluída ---\n",
            "\n",
            "--- 🎉 Resultado da Análise Financeira ---\n"
          ]
        },
        {
          "output_type": "display_data",
          "data": {
            "text/plain": [
              "<IPython.core.display.Markdown object>"
            ],
            "text/markdown": "## Análise Financeira da Compra do PlayStation 5 Slim\n\nCom base nos dados fornecidos, realizei uma análise financeira detalhada para auxiliar na sua decisão de compra.\n\n### Impacto no Orçamento\n\n-   O preço estimado do PlayStation 5 Slim (R$ 3800) representa 95% do seu orçamento disponível (R$ 4000).\n-   Considerando as alternativas:\n    -   PS5 Slim Edição Digital (R$ 3.499,59 - R$ 3.999,00): Impacto de 87,5% a 99,97% do orçamento.\n    -   Xbox Series X (preço similar ao PS5 Slim): Impacto próximo a 95% do orçamento.\n\n### Custo Total de Propriedade (CTP)\n\n-   **PlayStation 5 Slim:**\n    -   Preço inicial: R$ 3800 (valor usado como base).\n    -   Acessórios: Um controle adicional (R$ 300 - R$ 400), jogos (R$ 250 - R$ 350 cada).\n    -   PlayStation Plus (opcional): R$ 349,90/ano (plano anual).\n    -   Possíveis custos de reparo: Considerar relatos de superaquecimento e problemas de hardware, que podem gerar custos adicionais.\n-   **Xbox Series X:**\n    -   Preço inicial: Similar ao PS5 Slim.\n    -   Acessórios: Similar ao PS5 Slim.\n    -   Xbox Game Pass (opcional): R$ 329/ano (plano anual).\n    -   Possíveis custos de reparo: Considerar relatos de bugs e travamentos, embora menos graves que superaquecimento, podem demandar assistência técnica.\n\n### Depreciação\n\n-   Consoles tendem a depreciar rapidamente, especialmente com o lançamento de novos modelos.\n-   PlayStation 5 Slim: A depreciação pode ser acelerada se os problemas de superaquecimento persistirem, afetando a durabilidade percebida.\n-   A depreciação também é influenciada pela frequência de uso (4 vezes por semana) e cuidado com o aparelho.\n\n### Opções de Pagamento\n\n-   **À vista:**\n    -   Melhor opção para evitar juros, mas consome 95% do orçamento disponível.\n-   **Parcelado:**\n    -   Pode aliviar o impacto imediato no orçamento, mas os juros aumentarão o custo total.\n    -   Avalie a taxa de juros oferecida e o impacto nas parcelas mensais.\n    -   Como a urgência da compra é \"nenhuma\", esperar por condições melhores pode ser vantajoso.\n\n### Adequação Financeira\n\n-   Considerando que a compra é um \"desejo\" e não uma necessidade, e que consome uma alta porcentagem do seu orçamento, o momento financeiro não parece ideal.\n-   Adiar a compra ou buscar alternativas mais baratas pode ser prudente.\n\n### Alternativas\n\n-   **Alugar um console:**\n    -   Pode ser uma alternativa para usufruir do produto sem o alto custo inicial.\n    -   Verifique a disponibilidade e os custos de locação na sua região.\n-   **Esperar por promoções:**\n    -   Monitore os preços e aguarde por promoções ou cupons de desconto.\n    -   Histórico de preços indica que o PS5 Slim pode ser encontrado mais barato em eventos como Black Friday.\n-   **Considerar o Xbox Series X usado:**\n    -   Pode ser encontrado por um preço menor, oferecendo desempenho similar.\n    -   Verifique a reputação do vendedor e as condições do aparelho.\n-   **Focar no item similar que já possui:**\n    -   Aproveite ao máximo o console que já tem, adiando a compra para um momento financeiro mais favorável."
          },
          "metadata": {}
        },
        {
          "output_type": "stream",
          "name": "stdout",
          "text": [
            "--------------------------------------------------------------\n",
            "\n",
            "--- ✅ Agente 5: Tomador de Decisão Final em ação! ---\n",
            "Consolidando todas as informações para o veredito final...\n",
            "\n",
            "--- 🎉 Veredito Final Concluído! ---\n",
            "\n",
            "--- 🏆 Recomendação Final de Compra ---\n"
          ]
        },
        {
          "output_type": "display_data",
          "data": {
            "text/plain": [
              "<IPython.core.display.Markdown object>"
            ],
            "text/markdown": "Com base em todas as informações coletadas e análises realizadas, meu veredito sobre a compra do PlayStation 5 slim é:\n\n**RECOMENDADO COM RESSALVAS**\n\nJustificativa principal:\n- O PS5 Slim atende ao desejo do usuário e se encaixa no orçamento disponível, mas a compra requer cautela devido aos relatos de problemas de hardware e ao impacto significativo no orçamento. Recomenda-se aguardar promoções e considerar alternativas.\n\nFatores decisivos:\n- Fator financeiro relevante: A compra consome 95% do orçamento, tornando o planejamento financeiro essencial para evitar apertos.\n- Fator de utilidade/necessidade: O usuário tem um desejo forte pelo console e pretende utilizá-lo com frequência (4 vezes por semana).\n- Fator de mercado/timing: O mercado de consoles é dinâmico, com lançamentos constantes e flutuações de preço. Esperar por promoções pode ser vantajoso.\n- Fator de experiência do usuário/reputação: Apesar da boa reputação da marca PlayStation, alguns usuários relatam problemas de superaquecimento e hardware no PS5 Slim.\n\nPontos de atenção (baseado nos reviews e análises):\n- Superaquecimento e possíveis problemas de hardware são preocupações recorrentes que podem gerar custos adicionais de reparo.\n- A compra como \"desejo\" e o alto consumo do orçamento indicam que o momento financeiro pode não ser ideal.\n\nRecomendações adicionais:\n- Recomenda-se aguardar promoções e cupons de desconto, especialmente em eventos como a Black Friday, para mitigar o impacto no orçamento.\n- Considerar a compra da versão digital (mais barata) e, se necessário, adquirir o leitor de disco posteriormente, caso disponível e financeiramente viável.\n- Verificar a reputação do vendedor e as condições de garantia antes de finalizar a compra, buscando evitar unidades importadas sem garantia."
          },
          "metadata": {}
        },
        {
          "output_type": "stream",
          "name": "stdout",
          "text": [
            "--------------------------------------------------------------\n"
          ]
        }
      ]
    }
  ]
}